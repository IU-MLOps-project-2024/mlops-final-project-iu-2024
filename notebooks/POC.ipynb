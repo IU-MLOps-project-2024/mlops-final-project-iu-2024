{
 "cells": [
  {
   "cell_type": "markdown",
   "metadata": {},
   "source": [
    "# Proof-of-Concept Model"
   ]
  },
  {
   "cell_type": "code",
   "execution_count": 1,
   "metadata": {},
   "outputs": [],
   "source": [
    "import pandas as pd\n",
    "import numpy as np"
   ]
  },
  {
   "cell_type": "markdown",
   "metadata": {},
   "source": [
    "## Read data and show sample"
   ]
  },
  {
   "cell_type": "code",
   "execution_count": 2,
   "metadata": {},
   "outputs": [
    {
     "data": {
      "text/html": [
       "<div>\n",
       "<style scoped>\n",
       "    .dataframe tbody tr th:only-of-type {\n",
       "        vertical-align: middle;\n",
       "    }\n",
       "\n",
       "    .dataframe tbody tr th {\n",
       "        vertical-align: top;\n",
       "    }\n",
       "\n",
       "    .dataframe thead th {\n",
       "        text-align: right;\n",
       "    }\n",
       "</style>\n",
       "<table border=\"1\" class=\"dataframe\">\n",
       "  <thead>\n",
       "    <tr style=\"text-align: right;\">\n",
       "      <th></th>\n",
       "      <th>itemid</th>\n",
       "      <th>shopid</th>\n",
       "      <th>item_name</th>\n",
       "      <th>item_description</th>\n",
       "      <th>item_variation</th>\n",
       "      <th>price</th>\n",
       "      <th>stock</th>\n",
       "      <th>category</th>\n",
       "      <th>cb_option</th>\n",
       "      <th>is_preferred</th>\n",
       "      <th>sold_count</th>\n",
       "      <th>item_creation_date</th>\n",
       "    </tr>\n",
       "  </thead>\n",
       "  <tbody>\n",
       "    <tr>\n",
       "      <th>0</th>\n",
       "      <td>1925574</td>\n",
       "      <td>210000</td>\n",
       "      <td>Golden mobile numbers</td>\n",
       "      <td>Unregistered prepaid cards1) 93355333  selling...</td>\n",
       "      <td>{}</td>\n",
       "      <td>400.0</td>\n",
       "      <td>1</td>\n",
       "      <td>Mobile &amp; Gadgets</td>\n",
       "      <td>0</td>\n",
       "      <td>0</td>\n",
       "      <td>0</td>\n",
       "      <td>1/10/15 0:24</td>\n",
       "    </tr>\n",
       "    <tr>\n",
       "      <th>1</th>\n",
       "      <td>1925617</td>\n",
       "      <td>210000</td>\n",
       "      <td>Golden mobile numbers</td>\n",
       "      <td>Unregistered prepaid cards1) 93355888  selling...</td>\n",
       "      <td>{}</td>\n",
       "      <td>400.0</td>\n",
       "      <td>1</td>\n",
       "      <td>Mobile &amp; Gadgets</td>\n",
       "      <td>0</td>\n",
       "      <td>0</td>\n",
       "      <td>0</td>\n",
       "      <td>1/10/15 0:26</td>\n",
       "    </tr>\n",
       "    <tr>\n",
       "      <th>2</th>\n",
       "      <td>943600</td>\n",
       "      <td>210000</td>\n",
       "      <td>Golden Mobile Numbers</td>\n",
       "      <td>Unregistered prepaid cards. Can port to post p...</td>\n",
       "      <td>{}</td>\n",
       "      <td>8.0</td>\n",
       "      <td>1</td>\n",
       "      <td>Mobile &amp; Gadgets</td>\n",
       "      <td>0</td>\n",
       "      <td>0</td>\n",
       "      <td>0</td>\n",
       "      <td>25/8/15 21:02</td>\n",
       "    </tr>\n",
       "    <tr>\n",
       "      <th>3</th>\n",
       "      <td>1064405</td>\n",
       "      <td>210000</td>\n",
       "      <td>Golden Mobile Numbers</td>\n",
       "      <td>Unregistered prepaid cards. Can port to post p...</td>\n",
       "      <td>{}</td>\n",
       "      <td>8.0</td>\n",
       "      <td>1</td>\n",
       "      <td>Mobile &amp; Gadgets</td>\n",
       "      <td>0</td>\n",
       "      <td>0</td>\n",
       "      <td>0</td>\n",
       "      <td>30/8/15 20:16</td>\n",
       "    </tr>\n",
       "    <tr>\n",
       "      <th>4</th>\n",
       "      <td>20046620</td>\n",
       "      <td>760000</td>\n",
       "      <td>101% AUTHENTIC BASEBALL CAPS</td>\n",
       "      <td>PREORDER Takes about 23 weeks to arrive, will ...</td>\n",
       "      <td>{NEWERA BLACK: 35.0, NIKE SWOOSH DENIM: 35.0, ...</td>\n",
       "      <td>35.0</td>\n",
       "      <td>300</td>\n",
       "      <td>Women's Apparel</td>\n",
       "      <td>0</td>\n",
       "      <td>0</td>\n",
       "      <td>0</td>\n",
       "      <td>9/5/16 1:14</td>\n",
       "    </tr>\n",
       "  </tbody>\n",
       "</table>\n",
       "</div>"
      ],
      "text/plain": [
       "     itemid  shopid                     item_name  \\\n",
       "0   1925574  210000         Golden mobile numbers   \n",
       "1   1925617  210000         Golden mobile numbers   \n",
       "2    943600  210000         Golden Mobile Numbers   \n",
       "3   1064405  210000         Golden Mobile Numbers   \n",
       "4  20046620  760000  101% AUTHENTIC BASEBALL CAPS   \n",
       "\n",
       "                                    item_description  \\\n",
       "0  Unregistered prepaid cards1) 93355333  selling...   \n",
       "1  Unregistered prepaid cards1) 93355888  selling...   \n",
       "2  Unregistered prepaid cards. Can port to post p...   \n",
       "3  Unregistered prepaid cards. Can port to post p...   \n",
       "4  PREORDER Takes about 23 weeks to arrive, will ...   \n",
       "\n",
       "                                      item_variation  price  stock  \\\n",
       "0                                                 {}  400.0      1   \n",
       "1                                                 {}  400.0      1   \n",
       "2                                                 {}    8.0      1   \n",
       "3                                                 {}    8.0      1   \n",
       "4  {NEWERA BLACK: 35.0, NIKE SWOOSH DENIM: 35.0, ...   35.0    300   \n",
       "\n",
       "           category  cb_option  is_preferred  sold_count item_creation_date  \n",
       "0  Mobile & Gadgets          0             0           0       1/10/15 0:24  \n",
       "1  Mobile & Gadgets          0             0           0       1/10/15 0:26  \n",
       "2  Mobile & Gadgets          0             0           0      25/8/15 21:02  \n",
       "3  Mobile & Gadgets          0             0           0      30/8/15 20:16  \n",
       "4   Women's Apparel          0             0           0        9/5/16 1:14  "
      ]
     },
     "execution_count": 2,
     "metadata": {},
     "output_type": "execute_result"
    }
   ],
   "source": [
    "df = pd.read_csv(\"../data/raw/Test_Pandas.csv\")\n",
    "df.head()"
   ]
  },
  {
   "cell_type": "code",
   "execution_count": 3,
   "metadata": {},
   "outputs": [
    {
     "name": "stdout",
     "output_type": "stream",
     "text": [
      "20046620 \n",
      "\n",
      "760000 \n",
      "\n",
      "101% AUTHENTIC BASEBALL CAPS \n",
      "\n",
      "PREORDER Takes about 23 weeks to arrive, will provide receipt of order & estimated date of arrival upon confirmationAny other designs youre looking for feel free to ask! Ill help you check the website to see if i am able to ship it for you (: Sold more than 10 caps with good reviews in Carousell, 100% authentic and can be trusted. From a denmark store which is an official rattle location for yeezyboost Check listings for other authentic baseball caps too! #Nike #baseball #baseballcap #newera #neweracap #authentic #swoosh #newyork #yankee  \n",
      "\n",
      "{NEWERA BLACK: 35.0, NIKE SWOOSH DENIM: 35.0, NIKE SWOOSH BLACK: 35.0, NIKE SMALL SWOOSH: 35.0, NEWERA WHITE: 35.0, NEWERA MAROON: 35.0} \n",
      "\n",
      "35.0 \n",
      "\n",
      "300 \n",
      "\n",
      "Women's Apparel \n",
      "\n",
      "0 \n",
      "\n",
      "0 \n",
      "\n",
      "0 \n",
      "\n",
      "9/5/16 1:14 \n",
      "\n"
     ]
    }
   ],
   "source": [
    "for item in df.iloc[4, :].to_list():\n",
    "    print(item, '\\n')"
   ]
  },
  {
   "cell_type": "markdown",
   "metadata": {},
   "source": [
    "## Get rid of NaN values"
   ]
  },
  {
   "cell_type": "code",
   "execution_count": 4,
   "metadata": {},
   "outputs": [],
   "source": [
    "df.loc[df['item_name'].isna(), 'item_name'] = \"\"\n",
    "df.loc[df['item_description'].isna(), 'item_description'] = \"\"\n",
    "df.loc[df['item_variation'].isna(), 'item_variation'] = \"\"\n",
    "df.dropna(inplace=True, subset=['category'])"
   ]
  },
  {
   "cell_type": "markdown",
   "metadata": {},
   "source": [
    "## Scale continuous values (price and stock)"
   ]
  },
  {
   "cell_type": "code",
   "execution_count": 5,
   "metadata": {},
   "outputs": [],
   "source": [
    "from sklearn.preprocessing import StandardScaler\n",
    "\n",
    "scaler = StandardScaler()\n",
    "scaler.fit(df[['price', 'stock']].to_numpy())\n",
    "df[['price', 'stock']] = scaler.transform(df[['price', 'stock']].to_numpy())"
   ]
  },
  {
   "cell_type": "code",
   "execution_count": 6,
   "metadata": {},
   "outputs": [],
   "source": [
    "import pickle\n",
    "\n",
    "with open('../scaler.pkl', 'wb') as file:\n",
    "    pickle.dump(scaler, file)"
   ]
  },
  {
   "cell_type": "markdown",
   "metadata": {},
   "source": [
    "## Break down item creation date"
   ]
  },
  {
   "cell_type": "code",
   "execution_count": 7,
   "metadata": {},
   "outputs": [],
   "source": [
    "df['item_creation_date'] = pd.to_datetime(df['item_creation_date'])\n",
    "df['year'] = df['item_creation_date'].dt.year\n",
    "df['month'] = df['item_creation_date'].dt.month\n",
    "df['day'] = df['item_creation_date'].dt.day\n",
    "df.drop(columns=['item_creation_date'], inplace=True)"
   ]
  },
  {
   "cell_type": "markdown",
   "metadata": {},
   "source": [
    "## Assign labels to the target feature (category)"
   ]
  },
  {
   "cell_type": "code",
   "execution_count": 8,
   "metadata": {},
   "outputs": [],
   "source": [
    "from sklearn.preprocessing import LabelEncoder\n",
    "\n",
    "encoder = LabelEncoder()\n",
    "encoder.fit(df['category'].to_numpy())\n",
    "df['category'] = encoder.transform(df['category'].to_numpy())\n",
    "\n",
    "with open('../encoder.pkl', 'wb') as file:\n",
    "    pickle.dump(encoder, file)"
   ]
  },
  {
   "cell_type": "markdown",
   "metadata": {},
   "source": [
    "## Prepare X and y datasets"
   ]
  },
  {
   "cell_type": "code",
   "execution_count": 9,
   "metadata": {},
   "outputs": [],
   "source": [
    "numerical_features = [\n",
    "    'itemid',\n",
    "    'shopid',\n",
    "    'price',\n",
    "    'stock',\n",
    "    'cb_option',\n",
    "    'is_preferred',\n",
    "    'sold_count',\n",
    "    'year',\n",
    "    'month',\n",
    "    'day'\n",
    "]\n",
    "\n",
    "X = df[numerical_features].to_numpy()\n",
    "y = df['category'].to_numpy()"
   ]
  },
  {
   "cell_type": "markdown",
   "metadata": {},
   "source": [
    "## Vectorize text with TF-IDF"
   ]
  },
  {
   "cell_type": "code",
   "execution_count": 4,
   "metadata": {},
   "outputs": [],
   "source": [
    "from sklearn.feature_extraction.text import TfidfVectorizer\n",
    "import pickle\n",
    "\n",
    "def vectorize_text(name, text, max_features=None):\n",
    "    vectorizer = TfidfVectorizer(max_features=max_features)\n",
    "    vectorizer.fit(text)\n",
    "    with open(f'../vectorizer_{name}.pkl', 'wb') as file:\n",
    "            pickle.dump(vectorizer, file)\n",
    "    return vectorizer.transform(text).toarray()"
   ]
  },
  {
   "cell_type": "code",
   "execution_count": 15,
   "metadata": {},
   "outputs": [],
   "source": [
    "X = np.concatenate(\n",
    "    (\n",
    "        X,\n",
    "        vectorize_text('item_name', df['item_name'], max_features=100),\n",
    "        vectorize_text('item_description', df['item_description'], max_features=100),\n",
    "        vectorize_text('item_variation', df['item_variation'], max_features=100)\n",
    "    ),\n",
    "    axis=1\n",
    ")"
   ]
  },
  {
   "cell_type": "markdown",
   "metadata": {},
   "source": [
    "## Train POC model (Decision Tree)"
   ]
  },
  {
   "cell_type": "code",
   "execution_count": 46,
   "metadata": {},
   "outputs": [],
   "source": [
    "from sklearn.tree import DecisionTreeClassifier\n",
    "from sklearn.model_selection import train_test_split\n",
    "\n",
    "X_train, X_test, y_train, y_test = train_test_split(X, y, test_size=0.2, random_state=42)\n",
    "clf = DecisionTreeClassifier().fit(X_train, y_train)"
   ]
  },
  {
   "cell_type": "markdown",
   "metadata": {},
   "source": [
    "## Evaluate Results"
   ]
  },
  {
   "cell_type": "code",
   "execution_count": 47,
   "metadata": {},
   "outputs": [
    {
     "name": "stdout",
     "output_type": "stream",
     "text": [
      "              precision    recall  f1-score   support\n",
      "\n",
      "           0       0.94      0.94      0.94      5415\n",
      "           1       0.79      0.78      0.79       791\n",
      "           2       0.74      0.78      0.76      1107\n",
      "           3       0.76      0.63      0.69       122\n",
      "           4       0.77      0.72      0.74      1366\n",
      "           5       0.90      0.89      0.89      5503\n",
      "           6       0.83      0.84      0.83      5997\n",
      "           7       0.66      0.68      0.67       500\n",
      "           8       0.95      0.95      0.95     10889\n",
      "           9       0.97      0.97      0.97      4861\n",
      "          10       0.97      0.97      0.97     10655\n",
      "          11       0.75      0.76      0.75       511\n",
      "          12       0.97      0.97      0.97     12438\n",
      "          13       0.78      0.74      0.76       384\n",
      "          14       0.79      0.75      0.77      1592\n",
      "          15       0.57      0.29      0.38        28\n",
      "          16       0.89      0.89      0.89      5982\n",
      "          17       0.97      0.97      0.97      3368\n",
      "          18       0.96      0.96      0.96     17429\n",
      "          19       0.94      0.94      0.94      3947\n",
      "\n",
      "    accuracy                           0.93     92885\n",
      "   macro avg       0.84      0.82      0.83     92885\n",
      "weighted avg       0.93      0.93      0.93     92885\n",
      "\n"
     ]
    }
   ],
   "source": [
    "# print classfication report\n",
    "from sklearn.metrics import classification_report\n",
    "y_pred = clf.predict(X_test)\n",
    "print(classification_report(y_test, y_pred))"
   ]
  },
  {
   "cell_type": "markdown",
   "metadata": {},
   "source": [
    "**Conclusion**  \n",
    "Decision tree as a POC model has demonstrated a promising performance on the testing dataset: most of the classes have more than 0.5 F1 score. It means that it makes sense to continue the project and build a more advanced model powered by better data preparation and modeling. "
   ]
  },
  {
   "cell_type": "code",
   "execution_count": null,
   "metadata": {},
   "outputs": [],
   "source": []
  }
 ],
 "metadata": {
  "kernelspec": {
   "display_name": "base",
   "language": "python",
   "name": "python3"
  },
  "language_info": {
   "codemirror_mode": {
    "name": "ipython",
    "version": 3
   },
   "file_extension": ".py",
   "mimetype": "text/x-python",
   "name": "python",
   "nbconvert_exporter": "python",
   "pygments_lexer": "ipython3",
   "version": "3.10.12"
  }
 },
 "nbformat": 4,
 "nbformat_minor": 2
}
