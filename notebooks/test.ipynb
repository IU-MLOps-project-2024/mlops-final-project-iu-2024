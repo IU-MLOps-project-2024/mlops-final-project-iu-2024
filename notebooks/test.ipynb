{
 "cells": [
  {
   "cell_type": "code",
   "metadata": {
    "ExecuteTime": {
     "end_time": "2024-07-27T16:18:41.410267Z",
     "start_time": "2024-07-27T16:18:39.862041Z"
    }
   },
   "source": [
    "import torch\n",
    "import torch.nn as nn\n",
    "import torch.optim as optim\n",
    "from torch.utils.data import DataLoader, Dataset, random_split\n",
    "import pandas as pd\n",
    "from sklearn.preprocessing import StandardScaler, LabelEncoder\n",
    "from sklearn.model_selection import train_test_split\n",
    "\n",
    "device = torch.device(\"cuda\" if torch.cuda.is_available() else \"cpu\")"
   ],
   "outputs": [],
   "execution_count": 1
  },
  {
   "cell_type": "code",
   "metadata": {
    "ExecuteTime": {
     "end_time": "2024-07-27T16:18:41.415320Z",
     "start_time": "2024-07-27T16:18:41.411592Z"
    }
   },
   "source": [
    "class MLP(nn.Module):\n",
    "    def __init__(self, hidden_size=1024, num_layers=5, input_shape=310, output_shape=20):\n",
    "        super().__init__()\n",
    "        self.input = nn.Linear(input_shape, hidden_size)\n",
    "        self.layers = nn.ModuleList([\n",
    "            nn.Linear(hidden_size, hidden_size) for _ in range(num_layers)\n",
    "        ])\n",
    "        self.output = nn.Linear(hidden_size, output_shape)\n",
    "\n",
    "    def forward(self, x):\n",
    "        x = nn.functional.leaky_relu(self.input(x))\n",
    "        for layer in self.layers:\n",
    "            x = nn.functional.leaky_relu(layer(x))\n",
    "        return self.output(x)"
   ],
   "outputs": [],
   "execution_count": 2
  },
  {
   "cell_type": "code",
   "metadata": {
    "ExecuteTime": {
     "end_time": "2024-07-27T16:18:41.423144Z",
     "start_time": "2024-07-27T16:18:41.416105Z"
    }
   },
   "source": [
    "class SimpleTransformer(nn.Module):\n",
    "    def __init__(self, input_dim=310, num_classes=20, num_heads=5, num_encoder_layers=2, dropout=0.1):\n",
    "        super().__init__()\n",
    "        self.transformer = nn.TransformerEncoder(\n",
    "            nn.TransformerEncoderLayer(d_model=input_dim, nhead=num_heads, dropout=dropout),\n",
    "            num_layers=num_encoder_layers\n",
    "        )\n",
    "        self.fc = nn.Linear(input_dim, num_classes)\n",
    "\n",
    "    def forward(self, x):\n",
    "        x = x.unsqueeze(1)\n",
    "        x = x.transpose(0, 1) \n",
    "        x = self.transformer(x)\n",
    "        x = x.mean(dim=0)\n",
    "        x = self.fc(x)  \n",
    "        return x"
   ],
   "outputs": [],
   "execution_count": 3
  },
  {
   "cell_type": "code",
   "metadata": {
    "ExecuteTime": {
     "end_time": "2024-07-27T16:18:41.427392Z",
     "start_time": "2024-07-27T16:18:41.424436Z"
    }
   },
   "source": [
    "class CSVDataset(Dataset):\n",
    "    def __init__(self, file_path):\n",
    "        self.data = pd.read_csv(file_path)\n",
    "        self.X = self.data.iloc[:, :-1].values\n",
    "        self.y = self.data.iloc[:, -1].values\n",
    "\n",
    "        # Standardize features\n",
    "        self.scaler = StandardScaler()\n",
    "        self.X = self.scaler.fit_transform(self.X)\n",
    "        \n",
    "    def __len__(self):\n",
    "        return len(self.data)\n",
    "\n",
    "    def __getitem__(self, idx):\n",
    "        return torch.tensor(self.X[idx], dtype=torch.float32), torch.tensor(self.y[idx], dtype=torch.long)"
   ],
   "outputs": [],
   "execution_count": 4
  },
  {
   "cell_type": "code",
   "metadata": {
    "ExecuteTime": {
     "end_time": "2024-07-27T16:18:49.712120Z",
     "start_time": "2024-07-27T16:18:41.428127Z"
    }
   },
   "source": [
    "# Load dataset\n",
    "dataset = CSVDataset('../data/raw/test.csv')\n",
    "\n",
    "# Split dataset into training and testing\n",
    "train_size = int(0.8 * len(dataset))\n",
    "train_dataset, test_dataset = random_split(dataset, [train_size, len(dataset) - train_size])\n",
    "\n",
    "# Create data loaders\n",
    "train_loader = DataLoader(train_dataset, batch_size=2**12, shuffle=True)\n",
    "test_loader = DataLoader(test_dataset, batch_size=2**12, shuffle=False)"
   ],
   "outputs": [],
   "execution_count": 5
  },
  {
   "cell_type": "code",
   "metadata": {
    "ExecuteTime": {
     "end_time": "2024-07-27T16:20:08.805117Z",
     "start_time": "2024-07-27T16:18:49.712974Z"
    }
   },
   "source": [
    "# Initialize the model\n",
    "model = MLP().to(device)\n",
    "\n",
    "# Loss and optimizer\n",
    "criterion = nn.CrossEntropyLoss()\n",
    "optimizer = optim.AdamW(model.parameters(), lr=0.001)\n",
    "\n",
    "# Training loop\n",
    "num_epochs = 10\n",
    "for epoch in range(num_epochs):\n",
    "    model.train()\n",
    "    for inputs, targets in train_loader:\n",
    "        # Forward pass\n",
    "        inputs = inputs.to(device)\n",
    "        targets = targets.to(device)\n",
    "        outputs = model(inputs)\n",
    "        loss = criterion(outputs, targets)\n",
    "        \n",
    "        # Backward pass and optimization\n",
    "        optimizer.zero_grad()\n",
    "        loss.backward()\n",
    "        optimizer.step()\n",
    "    \n",
    "    print(f'Epoch [{epoch+1}/{num_epochs}], Loss: {loss.item():.4f}')\n"
   ],
   "outputs": [
    {
     "name": "stdout",
     "output_type": "stream",
     "text": [
      "Epoch [1/10], Loss: 0.6142\n",
      "Epoch [2/10], Loss: 0.4436\n",
      "Epoch [3/10], Loss: 0.3357\n",
      "Epoch [4/10], Loss: 0.3182\n",
      "Epoch [5/10], Loss: 0.2560\n",
      "Epoch [6/10], Loss: 0.1997\n",
      "Epoch [7/10], Loss: 0.1769\n",
      "Epoch [8/10], Loss: 0.1290\n",
      "Epoch [9/10], Loss: 0.1207\n",
      "Epoch [10/10], Loss: 0.1243\n"
     ]
    }
   ],
   "execution_count": 6
  },
  {
   "cell_type": "code",
   "metadata": {
    "ExecuteTime": {
     "end_time": "2024-07-27T16:20:10.767251Z",
     "start_time": "2024-07-27T16:20:08.806493Z"
    }
   },
   "source": [
    "# Evaluate the model\n",
    "model.eval()\n",
    "correct = 0\n",
    "total = 0\n",
    "with torch.no_grad():\n",
    "    for inputs, targets in test_loader:\n",
    "        inputs = inputs.to(device)\n",
    "        targets = targets.to(device)\n",
    "        outputs = model(inputs)\n",
    "        _, predicted = torch.max(outputs.data, 1)\n",
    "        total += targets.size(0)\n",
    "        correct += (predicted == targets).sum().item()\n",
    "\n",
    "accuracy = 100 * correct / total\n",
    "print(f'Accuracy of the model on the test data: {accuracy:.2f}%')"
   ],
   "outputs": [
    {
     "name": "stdout",
     "output_type": "stream",
     "text": [
      "Accuracy of the model on the test data: 92.38%\n"
     ]
    }
   ],
   "execution_count": 7
  },
  {
   "cell_type": "code",
   "metadata": {
    "ExecuteTime": {
     "end_time": "2024-07-27T16:20:10.769793Z",
     "start_time": "2024-07-27T16:20:10.768270Z"
    }
   },
   "source": [],
   "outputs": [],
   "execution_count": 7
  }
 ],
 "metadata": {
  "kernelspec": {
   "display_name": ".venv",
   "language": "python",
   "name": "python3"
  },
  "language_info": {
   "codemirror_mode": {
    "name": "ipython",
    "version": 3
   },
   "file_extension": ".py",
   "mimetype": "text/x-python",
   "name": "python",
   "nbconvert_exporter": "python",
   "pygments_lexer": "ipython3",
   "version": "3.11.9"
  }
 },
 "nbformat": 4,
 "nbformat_minor": 2
}
