{
 "cells": [
  {
   "cell_type": "code",
   "execution_count": 1,
   "metadata": {},
   "outputs": [],
   "source": [
    "import torch\n",
    "import torch.nn as nn\n",
    "import torch.optim as optim\n",
    "from torch.utils.data import DataLoader, Dataset, random_split\n",
    "import pandas as pd\n",
    "from sklearn.preprocessing import StandardScaler, LabelEncoder\n",
    "from sklearn.model_selection import train_test_split\n",
    "\n",
    "device = torch.device(\"cuda\" if torch.cuda.is_available() else \"cpu\")"
   ]
  },
  {
   "cell_type": "code",
   "execution_count": 3,
   "metadata": {},
   "outputs": [],
   "source": [
    "class MLP(nn.Module):\n",
    "    def __init__(self, hidden_size, num_layers, input_shape = 310, output_shape = 20):\n",
    "        super().__init__()\n",
    "        self.input = nn.Linear(input_shape, hidden_size)\n",
    "        self.layers = nn.ModuleList([\n",
    "            nn.Linear(hidden_size, hidden_size) for _ in range(num_layers)\n",
    "        ])\n",
    "        self.output = nn.Linear(hidden_size, output_shape)\n",
    "\n",
    "    def forward(self, x):\n",
    "        x = nn.functional.leaky_relu(self.input(x))\n",
    "        for layer in self.layers:\n",
    "            x = nn.functional.leaky_relu(layer(x))\n",
    "        return self.output(x)"
   ]
  },
  {
   "cell_type": "code",
   "execution_count": 4,
   "metadata": {},
   "outputs": [],
   "source": [
    "class CSVDataset(Dataset):\n",
    "    def __init__(self, file_path):\n",
    "        self.data = pd.read_csv(file_path)\n",
    "        self.X = self.data.iloc[:, :-1].values\n",
    "        self.y = self.data.iloc[:, -1].values\n",
    "\n",
    "        # Standardize features\n",
    "        self.scaler = StandardScaler()\n",
    "        self.X = self.scaler.fit_transform(self.X)\n",
    "\n",
    "        # Encode target labels\n",
    "        self.label_encoder = LabelEncoder()\n",
    "        self.y = self.label_encoder.fit_transform(self.y)\n",
    "\n",
    "    def __len__(self):\n",
    "        return len(self.data)\n",
    "\n",
    "    def __getitem__(self, idx):\n",
    "        return torch.tensor(self.X[idx], dtype=torch.float32), torch.tensor(self.y[idx], dtype=torch.long)\n"
   ]
  },
  {
   "cell_type": "code",
   "execution_count": 5,
   "metadata": {},
   "outputs": [],
   "source": [
    "# Load dataset\n",
    "dataset = CSVDataset('../data/raw/test.csv')\n",
    "\n",
    "# Split dataset into training and testing\n",
    "train_size = int(0.8 * len(dataset))\n",
    "test_size = len(dataset) - train_size\n",
    "train_dataset, test_dataset = random_split(dataset, [train_size, test_size])\n",
    "\n",
    "# Create data loaders\n",
    "train_loader = DataLoader(train_dataset, batch_size=4096, shuffle=True)\n",
    "test_loader = DataLoader(test_dataset, batch_size=4096, shuffle=False)\n"
   ]
  },
  {
   "cell_type": "code",
   "execution_count": 6,
   "metadata": {},
   "outputs": [
    {
     "name": "stdout",
     "output_type": "stream",
     "text": [
      "Epoch [1/10], Loss: 1.9007\n",
      "Epoch [2/10], Loss: 1.4269\n",
      "Epoch [3/10], Loss: 0.5983\n"
     ]
    }
   ],
   "source": [
    "# Initialize the model\n",
    "input_size = 310\n",
    "hidden_size = 1024\n",
    "output_size = 20  # Number of classes\n",
    "model = MLP(hidden_size=hidden_size, num_layers=10).to(device)\n",
    "\n",
    "# Loss and optimizer\n",
    "criterion = nn.CrossEntropyLoss()\n",
    "optimizer = optim.AdamW(model.parameters(), lr=0.001)\n",
    "\n",
    "# Training loop\n",
    "num_epochs = 10\n",
    "for epoch in range(num_epochs):\n",
    "    model.train()\n",
    "    for inputs, targets in train_loader:\n",
    "        # Forward pass\n",
    "        inputs = inputs.to(device)\n",
    "        targets = targets.to(device)\n",
    "        outputs = model(inputs)\n",
    "        loss = criterion(outputs, targets)\n",
    "        \n",
    "        # Backward pass and optimization\n",
    "        optimizer.zero_grad()\n",
    "        loss.backward()\n",
    "        optimizer.step()\n",
    "    \n",
    "    print(f'Epoch [{epoch+1}/{num_epochs}], Loss: {loss.item():.4f}')\n"
   ]
  },
  {
   "cell_type": "code",
   "execution_count": null,
   "metadata": {},
   "outputs": [
    {
     "name": "stdout",
     "output_type": "stream",
     "text": [
      "Accuracy of the model on the test data: 92.49%\n"
     ]
    }
   ],
   "source": [
    "# Evaluate the model\n",
    "model.eval()\n",
    "correct = 0\n",
    "total = 0\n",
    "with torch.no_grad():\n",
    "    for inputs, targets in test_loader:\n",
    "        inputs = inputs.to(device)\n",
    "        targets = targets.to(device)\n",
    "        outputs = model(inputs)\n",
    "        _, predicted = torch.max(outputs.data, 1)\n",
    "        total += targets.size(0)\n",
    "        correct += (predicted == targets).sum().item()\n",
    "\n",
    "accuracy = 100 * correct / total\n",
    "print(f'Accuracy of the model on the test data: {accuracy:.2f}%')\n"
   ]
  },
  {
   "cell_type": "code",
   "execution_count": 2,
   "metadata": {},
   "outputs": [],
   "source": [
    "from zenml.client import Client\n"
   ]
  },
  {
   "cell_type": "code",
   "execution_count": 9,
   "metadata": {},
   "outputs": [],
   "source": [
    "client = Client()\n",
    "l = client.list_artifact_versions(name = \"features_target\", sort_by=\"version\", tag='6').items\n",
    "l.reverse()"
   ]
  },
  {
   "cell_type": "code",
   "execution_count": 10,
   "metadata": {},
   "outputs": [
    {
     "data": {
      "text/plain": [
       "[ArtifactVersionResponse(body=ArtifactVersionResponseBody(created=datetime.datetime(2024, 7, 24, 13, 9, 17, 400686), updated=datetime.datetime(2024, 7, 24, 13, 9, 17, 400688), user=UserResponse(body=UserResponseBody(created=datetime.datetime(2024, 7, 19, 12, 49, 52, 360837), updated=datetime.datetime(2024, 7, 19, 13, 2, 55, 636870), active=True, activation_token=None, full_name='Aleksandr', email_opted_in=False, is_service_account=False, is_admin=True), metadata=None, resources=None, id=UUID('fac9fd98-1514-487b-be06-d322a0ba32b6'), permission_denied=False, name='default'), artifact=ArtifactResponse(body=ArtifactResponseBody(created=datetime.datetime(2024, 7, 24, 8, 56, 49, 97771), updated=datetime.datetime(2024, 7, 24, 8, 56, 49, 97772), tags=[TagResponse(body=TagResponseBody(created=datetime.datetime(2024, 7, 24, 8, 56, 49, 98960), updated=datetime.datetime(2024, 7, 24, 8, 56, 49, 98961), color=<ColorVariants.YELLOW: 'yellow'>, tagged_count=6), metadata=None, resources=None, id=UUID('936d7ad2-9bc4-4525-b797-340460c06cea'), permission_denied=False, name='6')], latest_version_name='5', latest_version_id=UUID('9b783509-875a-4c47-9466-80bfbd0d81ae')), metadata=None, resources=None, id=UUID('93b26d65-3dae-4b38-b92f-968a2eab8d86'), permission_denied=False, name='features_target'), version='5', uri='/home/aleksandr-vashchenko/Repos/mlops-final-project-iu-2024/services/zenml/local_stores/925e08e0-9b51-46c6-b6cd-8ee3fbaaf33a/custom_artifacts/features_target/9124a1ae-08f7-419b-8e74-4605043bc9f6', type=<ArtifactType.DATA: 'DataArtifact'>, materializer=Source(module='zenml.materializers.pandas_materializer', attribute='PandasMaterializer', type=<SourceType.INTERNAL: 'internal'>), data_type=Source(module='pandas.core.frame', attribute='DataFrame', type=<SourceType.DISTRIBUTION_PACKAGE: 'distribution_package'>, package_name='pandas', version='1.5.3'), tags=[TagResponse(body=TagResponseBody(created=datetime.datetime(2024, 7, 24, 8, 56, 49, 98960), updated=datetime.datetime(2024, 7, 24, 8, 56, 49, 98961), color=<ColorVariants.YELLOW: 'yellow'>, tagged_count=6), metadata=None, resources=None, id=UUID('936d7ad2-9bc4-4525-b797-340460c06cea'), permission_denied=False, name='6')], producer_pipeline_run_id=UUID('e6bc424a-2df1-43fa-9c2b-03344d52c81a')), metadata=None, resources=None, id=UUID('9b783509-875a-4c47-9466-80bfbd0d81ae'), permission_denied=False),\n",
       " ArtifactVersionResponse(body=ArtifactVersionResponseBody(created=datetime.datetime(2024, 7, 24, 13, 7, 35, 981031), updated=datetime.datetime(2024, 7, 24, 13, 7, 35, 981032), user=UserResponse(body=UserResponseBody(created=datetime.datetime(2024, 7, 19, 12, 49, 52, 360837), updated=datetime.datetime(2024, 7, 19, 13, 2, 55, 636870), active=True, activation_token=None, full_name='Aleksandr', email_opted_in=False, is_service_account=False, is_admin=True), metadata=None, resources=None, id=UUID('fac9fd98-1514-487b-be06-d322a0ba32b6'), permission_denied=False, name='default'), artifact=ArtifactResponse(body=ArtifactResponseBody(created=datetime.datetime(2024, 7, 24, 8, 56, 49, 97771), updated=datetime.datetime(2024, 7, 24, 8, 56, 49, 97772), tags=[TagResponse(body=TagResponseBody(created=datetime.datetime(2024, 7, 24, 8, 56, 49, 98960), updated=datetime.datetime(2024, 7, 24, 8, 56, 49, 98961), color=<ColorVariants.YELLOW: 'yellow'>, tagged_count=6), metadata=None, resources=None, id=UUID('936d7ad2-9bc4-4525-b797-340460c06cea'), permission_denied=False, name='6')], latest_version_name='5', latest_version_id=UUID('9b783509-875a-4c47-9466-80bfbd0d81ae')), metadata=None, resources=None, id=UUID('93b26d65-3dae-4b38-b92f-968a2eab8d86'), permission_denied=False, name='features_target'), version='4', uri='/home/aleksandr-vashchenko/Repos/mlops-final-project-iu-2024/services/zenml/local_stores/925e08e0-9b51-46c6-b6cd-8ee3fbaaf33a/custom_artifacts/features_target/cfc49bd9-0840-4704-8ce8-6e70a640d9b7', type=<ArtifactType.DATA: 'DataArtifact'>, materializer=Source(module='zenml.materializers.pandas_materializer', attribute='PandasMaterializer', type=<SourceType.INTERNAL: 'internal'>), data_type=Source(module='pandas.core.frame', attribute='DataFrame', type=<SourceType.DISTRIBUTION_PACKAGE: 'distribution_package'>, package_name='pandas', version='1.5.3'), tags=[TagResponse(body=TagResponseBody(created=datetime.datetime(2024, 7, 24, 8, 56, 49, 98960), updated=datetime.datetime(2024, 7, 24, 8, 56, 49, 98961), color=<ColorVariants.YELLOW: 'yellow'>, tagged_count=6), metadata=None, resources=None, id=UUID('936d7ad2-9bc4-4525-b797-340460c06cea'), permission_denied=False, name='6')], producer_pipeline_run_id=UUID('82a49b7b-f31b-4da2-b8bc-4c4aa1277189')), metadata=None, resources=None, id=UUID('0cb4bedd-cc78-498c-b5d0-0963acdbb62f'), permission_denied=False),\n",
       " ArtifactVersionResponse(body=ArtifactVersionResponseBody(created=datetime.datetime(2024, 7, 24, 13, 6, 48, 603985), updated=datetime.datetime(2024, 7, 24, 13, 6, 48, 603986), user=UserResponse(body=UserResponseBody(created=datetime.datetime(2024, 7, 19, 12, 49, 52, 360837), updated=datetime.datetime(2024, 7, 19, 13, 2, 55, 636870), active=True, activation_token=None, full_name='Aleksandr', email_opted_in=False, is_service_account=False, is_admin=True), metadata=None, resources=None, id=UUID('fac9fd98-1514-487b-be06-d322a0ba32b6'), permission_denied=False, name='default'), artifact=ArtifactResponse(body=ArtifactResponseBody(created=datetime.datetime(2024, 7, 24, 8, 56, 49, 97771), updated=datetime.datetime(2024, 7, 24, 8, 56, 49, 97772), tags=[TagResponse(body=TagResponseBody(created=datetime.datetime(2024, 7, 24, 8, 56, 49, 98960), updated=datetime.datetime(2024, 7, 24, 8, 56, 49, 98961), color=<ColorVariants.YELLOW: 'yellow'>, tagged_count=6), metadata=None, resources=None, id=UUID('936d7ad2-9bc4-4525-b797-340460c06cea'), permission_denied=False, name='6')], latest_version_name='5', latest_version_id=UUID('9b783509-875a-4c47-9466-80bfbd0d81ae')), metadata=None, resources=None, id=UUID('93b26d65-3dae-4b38-b92f-968a2eab8d86'), permission_denied=False, name='features_target'), version='3', uri='/home/aleksandr-vashchenko/Repos/mlops-final-project-iu-2024/services/zenml/local_stores/925e08e0-9b51-46c6-b6cd-8ee3fbaaf33a/custom_artifacts/features_target/1208b967-f7c7-4b16-8f4f-6937b234e2f1', type=<ArtifactType.DATA: 'DataArtifact'>, materializer=Source(module='zenml.materializers.pandas_materializer', attribute='PandasMaterializer', type=<SourceType.INTERNAL: 'internal'>), data_type=Source(module='pandas.core.frame', attribute='DataFrame', type=<SourceType.DISTRIBUTION_PACKAGE: 'distribution_package'>, package_name='pandas', version='1.5.3'), tags=[TagResponse(body=TagResponseBody(created=datetime.datetime(2024, 7, 24, 8, 56, 49, 98960), updated=datetime.datetime(2024, 7, 24, 8, 56, 49, 98961), color=<ColorVariants.YELLOW: 'yellow'>, tagged_count=6), metadata=None, resources=None, id=UUID('936d7ad2-9bc4-4525-b797-340460c06cea'), permission_denied=False, name='6')], producer_pipeline_run_id=UUID('614acd54-bd80-4adb-8fc8-31777e6b542c')), metadata=None, resources=None, id=UUID('f4385e0a-1f5f-4ed6-ade8-9c6a573ed78a'), permission_denied=False),\n",
       " ArtifactVersionResponse(body=ArtifactVersionResponseBody(created=datetime.datetime(2024, 7, 24, 13, 4, 23, 302225), updated=datetime.datetime(2024, 7, 24, 13, 4, 23, 302228), user=UserResponse(body=UserResponseBody(created=datetime.datetime(2024, 7, 19, 12, 49, 52, 360837), updated=datetime.datetime(2024, 7, 19, 13, 2, 55, 636870), active=True, activation_token=None, full_name='Aleksandr', email_opted_in=False, is_service_account=False, is_admin=True), metadata=None, resources=None, id=UUID('fac9fd98-1514-487b-be06-d322a0ba32b6'), permission_denied=False, name='default'), artifact=ArtifactResponse(body=ArtifactResponseBody(created=datetime.datetime(2024, 7, 24, 8, 56, 49, 97771), updated=datetime.datetime(2024, 7, 24, 8, 56, 49, 97772), tags=[TagResponse(body=TagResponseBody(created=datetime.datetime(2024, 7, 24, 8, 56, 49, 98960), updated=datetime.datetime(2024, 7, 24, 8, 56, 49, 98961), color=<ColorVariants.YELLOW: 'yellow'>, tagged_count=6), metadata=None, resources=None, id=UUID('936d7ad2-9bc4-4525-b797-340460c06cea'), permission_denied=False, name='6')], latest_version_name='5', latest_version_id=UUID('9b783509-875a-4c47-9466-80bfbd0d81ae')), metadata=None, resources=None, id=UUID('93b26d65-3dae-4b38-b92f-968a2eab8d86'), permission_denied=False, name='features_target'), version='2', uri='/home/aleksandr-vashchenko/Repos/mlops-final-project-iu-2024/services/zenml/local_stores/925e08e0-9b51-46c6-b6cd-8ee3fbaaf33a/custom_artifacts/features_target/5f2e17c6-51cd-432e-834a-b3a07c880d62', type=<ArtifactType.DATA: 'DataArtifact'>, materializer=Source(module='zenml.materializers.pandas_materializer', attribute='PandasMaterializer', type=<SourceType.INTERNAL: 'internal'>), data_type=Source(module='pandas.core.frame', attribute='DataFrame', type=<SourceType.DISTRIBUTION_PACKAGE: 'distribution_package'>, package_name='pandas', version='1.5.3'), tags=[TagResponse(body=TagResponseBody(created=datetime.datetime(2024, 7, 24, 8, 56, 49, 98960), updated=datetime.datetime(2024, 7, 24, 8, 56, 49, 98961), color=<ColorVariants.YELLOW: 'yellow'>, tagged_count=6), metadata=None, resources=None, id=UUID('936d7ad2-9bc4-4525-b797-340460c06cea'), permission_denied=False, name='6')], producer_pipeline_run_id=UUID('f55a00ae-9787-46b4-89cf-5ce2afeb6d57')), metadata=None, resources=None, id=UUID('d5fdbe00-00f2-45c3-a3a7-7844f3fca1e4'), permission_denied=False),\n",
       " ArtifactVersionResponse(body=ArtifactVersionResponseBody(created=datetime.datetime(2024, 7, 24, 8, 56, 51, 494737), updated=datetime.datetime(2024, 7, 24, 8, 56, 51, 494739), user=UserResponse(body=UserResponseBody(created=datetime.datetime(2024, 7, 19, 12, 49, 52, 360837), updated=datetime.datetime(2024, 7, 19, 13, 2, 55, 636870), active=True, activation_token=None, full_name='Aleksandr', email_opted_in=False, is_service_account=False, is_admin=True), metadata=None, resources=None, id=UUID('fac9fd98-1514-487b-be06-d322a0ba32b6'), permission_denied=False, name='default'), artifact=ArtifactResponse(body=ArtifactResponseBody(created=datetime.datetime(2024, 7, 24, 8, 56, 49, 97771), updated=datetime.datetime(2024, 7, 24, 8, 56, 49, 97772), tags=[TagResponse(body=TagResponseBody(created=datetime.datetime(2024, 7, 24, 8, 56, 49, 98960), updated=datetime.datetime(2024, 7, 24, 8, 56, 49, 98961), color=<ColorVariants.YELLOW: 'yellow'>, tagged_count=6), metadata=None, resources=None, id=UUID('936d7ad2-9bc4-4525-b797-340460c06cea'), permission_denied=False, name='6')], latest_version_name='5', latest_version_id=UUID('9b783509-875a-4c47-9466-80bfbd0d81ae')), metadata=None, resources=None, id=UUID('93b26d65-3dae-4b38-b92f-968a2eab8d86'), permission_denied=False, name='features_target'), version='1', uri='/home/aleksandr-vashchenko/Repos/mlops-final-project-iu-2024/services/zenml/local_stores/925e08e0-9b51-46c6-b6cd-8ee3fbaaf33a/custom_artifacts/features_target/b622d1d7-6f0f-49fc-8db6-740fa4acd3eb', type=<ArtifactType.DATA: 'DataArtifact'>, materializer=Source(module='zenml.materializers.pandas_materializer', attribute='PandasMaterializer', type=<SourceType.INTERNAL: 'internal'>), data_type=Source(module='pandas.core.frame', attribute='DataFrame', type=<SourceType.DISTRIBUTION_PACKAGE: 'distribution_package'>, package_name='pandas', version='1.5.3'), tags=[TagResponse(body=TagResponseBody(created=datetime.datetime(2024, 7, 24, 8, 56, 49, 98960), updated=datetime.datetime(2024, 7, 24, 8, 56, 49, 98961), color=<ColorVariants.YELLOW: 'yellow'>, tagged_count=6), metadata=None, resources=None, id=UUID('936d7ad2-9bc4-4525-b797-340460c06cea'), permission_denied=False, name='6')], producer_pipeline_run_id=UUID('b7c61b14-c59c-4cbd-8567-3f74bc8f7829')), metadata=None, resources=None, id=UUID('a0d6fea7-a722-48a3-88ee-349143909f82'), permission_denied=False)]"
      ]
     },
     "execution_count": 10,
     "metadata": {},
     "output_type": "execute_result"
    }
   ],
   "source": [
    "l"
   ]
  },
  {
   "cell_type": "code",
   "execution_count": null,
   "metadata": {},
   "outputs": [],
   "source": []
  }
 ],
 "metadata": {
  "kernelspec": {
   "display_name": ".venv",
   "language": "python",
   "name": "python3"
  },
  "language_info": {
   "codemirror_mode": {
    "name": "ipython",
    "version": 3
   },
   "file_extension": ".py",
   "mimetype": "text/x-python",
   "name": "python",
   "nbconvert_exporter": "python",
   "pygments_lexer": "ipython3",
   "version": "3.11.9"
  }
 },
 "nbformat": 4,
 "nbformat_minor": 2
}
